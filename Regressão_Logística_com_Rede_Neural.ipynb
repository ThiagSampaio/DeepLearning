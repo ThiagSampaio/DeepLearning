{
  "nbformat": 4,
  "nbformat_minor": 0,
  "metadata": {
    "colab": {
      "name": "Regressão Logística com Rede Neural.ipynb",
      "provenance": [],
      "collapsed_sections": [],
      "machine_shape": "hm",
      "mount_file_id": "1nveDQyK5q5x5dTkU1qXitWSmqw2JkMh4",
      "authorship_tag": "ABX9TyPZb4VljBXCtZDr7u44hEbw",
      "include_colab_link": true
    },
    "kernelspec": {
      "name": "python3",
      "display_name": "Python 3"
    },
    "language_info": {
      "name": "python"
    },
    "accelerator": "GPU"
  },
  "cells": [
    {
      "cell_type": "markdown",
      "metadata": {
        "id": "view-in-github",
        "colab_type": "text"
      },
      "source": [
        "<a href=\"https://colab.research.google.com/github/ThiagSampaio/DeepLearning/blob/main/Regress%C3%A3o_Log%C3%ADstica_com_Rede_Neural.ipynb\" target=\"_parent\"><img src=\"https://colab.research.google.com/assets/colab-badge.svg\" alt=\"Open In Colab\"/></a>"
      ]
    },
    {
      "cell_type": "markdown",
      "metadata": {
        "id": "lQKRo2Q64aOJ"
      },
      "source": [
        "# Regressão Logística com Rede Neural\n",
        "\n",
        "Vamos construir um classificador de regressão logística para reconhecer gatos.\n",
        "\n",
        "** O que será mostrado: **\n",
        "- Construir uma arquitetura geral de um algoritmo de aprendizado, incluindo:\n",
        "    - Inicializando os parâmetros\n",
        "    - Calculando a função custo e seu gradiente\n",
        "    - Usando um algoritmo de otimização(gradiente descente)\n",
        "- Pegar as três funções acima e aplicá-las em uma função modelo principal, na ordem correta."
      ]
    },
    {
      "cell_type": "markdown",
      "metadata": {
        "id": "FKoeZy4M57yT"
      },
      "source": [
        "## Tabela de Conteúdos\n",
        "- [1 - Pacotes](#1)\n",
        "- [2 - Olhando o problema](#2)\n",
        "    - [Demonstração 1](#ex-1)\n",
        "    - [Demonstração 2](#ex-2)\n",
        "- [3 - Arquitetura geral de um algoritmo de aprendizado](#3)\n",
        "- [4 - Construindo as partes do nosso algoritmo](#4)\n",
        "    - [4.1 - Funções úteis](#4-1)\n",
        "        - [Demonstração 3 - sigmoid](#ex-3)\n",
        "    - [4.2 - Inicializando parâmetros](#4-2)\n",
        "        - [Demonstração 4 - inicializando_com_zeros](#ex-4)\n",
        "    - [4.3 - Propagação direta e inversa](#4-3)\n",
        "        - [Demonstração 5 - propagação](#ex-5)\n",
        "    - [4.4 - Optimization](#4-4)\n",
        "        - [Demonstração 6 - otimização](#ex-6)\n",
        "        - [Demonstração 7 - predição](#ex-7)\n",
        "- [5 - Aglutinar todas as funções em um modelo](#5)\n",
        "    - [Demonstração 8 - modelo](#ex-8)\n",
        "- [6 - Análises](#6)\n",
        "- [7 - Testando com sua prória imagem](#7)\n",
        "\n"
      ]
    },
    {
      "cell_type": "markdown",
      "metadata": {
        "id": "5-btR47T-fE1"
      },
      "source": [
        "<a name='1'></a>\n",
        "## 1 - Packages ##\n",
        "\n",
        "Primeiro, vamos rodar a célula abaixo para importar todos os pacotes que usaremos durante essa demonstração.\n",
        "- [numpy](https://numpy.org/doc/1.20/) é um pacote fundamental para computação científica com python\n",
        "- [h5py](http://www.h5py.org) é um pacote comum para interagir com arquivos armazenados como .h5\n",
        "- [matplotlib](http://matplotlib.org) é uma famosa biblioteca para plotar gráficos.\n",
        "- [PIL](https://pillow.readthedocs.io/en/stable/) and [scipy](https://www.scipy.org/) são usados para testar o modelo com sua própria figura no final do estudo. "
      ]
    },
    {
      "cell_type": "code",
      "metadata": {
        "id": "EU_MD31z4ZxX"
      },
      "source": [
        "import numpy as np\n",
        "import copy\n",
        "import matplotlib.pyplot as plt\n",
        "import h5py\n",
        "import scipy\n",
        "from PIL import Image\n",
        "from scipy import ndimage\n",
        "from lr_utils  import load_dataset\n",
        "from public_tests import *\n",
        "\n",
        "%matplotlib inline\n",
        "%load_ext autoreload\n",
        "%autoreload 2"
      ],
      "execution_count": 14,
      "outputs": []
    },
    {
      "cell_type": "markdown",
      "metadata": {
        "id": "lDJgZdJPAuoQ"
      },
      "source": [
        "<a name='2'></a>\n",
        "## 2 - Olhando para o problema##\n",
        "\n",
        "**Declaração do Problema**: Foi dado a você um dataset(\"data.h5\") contendo:\n",
        "\n",
        "    - um conjunto de treinamento de imagens m_train rotuladas como gato (y = 1) ou não gato (y = 0)\n",
        "    - um conjunto de teste de imagens m_test rotuladas como gato ou não gato\n",
        "    - cada imagem tem forma (num_px, num_px, 3) onde 3 é para os 3 canais (RGB). Assim, cada imagem é quadrada (altura = num_px) e (largura = num_px).\n",
        "\n",
        "Construiremos um algoritmo de reconhecimento de imagem simples que pode classificar corretamente as imagens como gatos ou não.\n",
        "\n",
        "Vamos nos familiarizar mais com o conjunto de dados. Carregue os dados executando o código a seguir."
      ]
    },
    {
      "cell_type": "code",
      "metadata": {
        "id": "yHq3tQf2ApN5"
      },
      "source": [
        "<a name='2'></a>\n",
        "## 2 - Overview of the Problem set ##\n",
        "\n",
        "**Problem Statement**: You are given a dataset (\"data.h5\") containing:\n",
        "    - a training set of m_train images labeled as cat (y=1) or non-cat (y=0)\n",
        "    - a test set of m_test images labeled as cat or non-cat\n",
        "    - each image is of shape (num_px, num_px, 3) where 3 is for the 3 channels (RGB). Thus, each image is square (height = num_px) and (width = num_px).\n",
        "\n",
        "You will build a simple image-recognition algorithm that can correctly classify pictures as cat or non-cat.\n",
        "\n",
        "Let's get more familiar with the dataset. Load the data by running the following code."
      ],
      "execution_count": null,
      "outputs": []
    }
  ]
}