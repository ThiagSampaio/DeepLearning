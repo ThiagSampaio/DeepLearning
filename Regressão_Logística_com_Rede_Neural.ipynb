{
  "nbformat": 4,
  "nbformat_minor": 0,
  "metadata": {
    "colab": {
      "name": "Regressão Logística com Rede Neural.ipynb",
      "provenance": [],
      "collapsed_sections": [],
      "mount_file_id": "1nveDQyK5q5x5dTkU1qXitWSmqw2JkMh4",
      "authorship_tag": "ABX9TyOD+A99PGF2i7UzhESasXoE",
      "include_colab_link": true
    },
    "kernelspec": {
      "name": "python3",
      "display_name": "Python 3"
    },
    "language_info": {
      "name": "python"
    }
  },
  "cells": [
    {
      "cell_type": "markdown",
      "metadata": {
        "id": "view-in-github",
        "colab_type": "text"
      },
      "source": [
        "<a href=\"https://colab.research.google.com/github/ThiagSampaio/DeepLearning/blob/main/Regress%C3%A3o_Log%C3%ADstica_com_Rede_Neural.ipynb\" target=\"_parent\"><img src=\"https://colab.research.google.com/assets/colab-badge.svg\" alt=\"Open In Colab\"/></a>"
      ]
    },
    {
      "cell_type": "markdown",
      "metadata": {
        "id": "lQKRo2Q64aOJ"
      },
      "source": [
        "# Regressão Logística com Rede Neural\n",
        "\n",
        "Vamos construir um classificador de regressão logística para reconhecer gatos.\n",
        "\n",
        "** O que será mostrado: **\n",
        "- Construir uma arquitetura geral de um algoritmo de aprendizado, incluindo:\n",
        "    - Inicializando os parâmetros\n",
        "    - Calculando a função custo e seu gradiente\n",
        "    - Usando um algoritmo de otimização(gradiente descente)\n",
        "- Pegar as três funções acima e aplicá-las em uma função modelo principal, na ordem correta."
      ]
    },
    {
      "cell_type": "markdown",
      "metadata": {
        "id": "FKoeZy4M57yT"
      },
      "source": [
        "## Tabela de Conteúdos\n",
        "- .[1 - Pacotes].(#1)\n",
        "\n"
      ]
    },
    {
      "cell_type": "code",
      "metadata": {
        "id": "ikM5MzJp4Fa7"
      },
      "source": [
        ""
      ],
      "execution_count": null,
      "outputs": []
    },
    {
      "cell_type": "code",
      "metadata": {
        "id": "EU_MD31z4ZxX"
      },
      "source": [
        ""
      ],
      "execution_count": null,
      "outputs": []
    }
  ]
}