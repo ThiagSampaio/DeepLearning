{
  "nbformat": 4,
  "nbformat_minor": 0,
  "metadata": {
    "colab": {
      "name": "Regressão Logística com Rede Neural.ipynb",
      "provenance": [],
      "collapsed_sections": [],
      "toc_visible": true,
      "machine_shape": "hm",
      "mount_file_id": "1nveDQyK5q5x5dTkU1qXitWSmqw2JkMh4",
      "authorship_tag": "ABX9TyMmK39sKXdzNv4EdCyf3RKz",
      "include_colab_link": true
    },
    "kernelspec": {
      "name": "python3",
      "display_name": "Python 3"
    },
    "language_info": {
      "name": "python"
    },
    "accelerator": "GPU"
  },
  "cells": [
    {
      "cell_type": "markdown",
      "metadata": {
        "id": "view-in-github",
        "colab_type": "text"
      },
      "source": [
        "<a href=\"https://colab.research.google.com/github/ThiagSampaio/DeepLearning/blob/main/Regress%C3%A3o_Log%C3%ADstica_com_Rede_Neural.ipynb\" target=\"_parent\"><img src=\"https://colab.research.google.com/assets/colab-badge.svg\" alt=\"Open In Colab\"/></a>"
      ]
    },
    {
      "cell_type": "markdown",
      "metadata": {
        "id": "lQKRo2Q64aOJ"
      },
      "source": [
        "# Regressão Logística com Rede Neural\n",
        "\n",
        "Vamos construir um classificador de regressão logística para reconhecer gatos.\n",
        "\n",
        "** O que será mostrado: **\n",
        "- Construir uma arquitetura geral de um algoritmo de aprendizado, incluindo:\n",
        "    - Inicializando os parâmetros\n",
        "    - Calculando a função custo e seu gradiente\n",
        "    - Usando um algoritmo de otimização(gradiente descente)\n",
        "- Pegar as três funções acima e aplicá-las em uma função modelo principal, na ordem correta."
      ]
    },
    {
      "cell_type": "markdown",
      "metadata": {
        "id": "FKoeZy4M57yT"
      },
      "source": [
        "## Tabela de Conteúdos\n",
        "- [1 - Pacotes](#1)\n",
        "- [2 - Olhando o problema](#2)\n",
        "    - [Demonstração 1](#ex-1)\n",
        "    - [Demonstração 2](#ex-2)\n",
        "- [3 - Arquitetura geral de um algoritmo de aprendizado](#3)\n",
        "- [4 - Construindo as partes do nosso algoritmo](#4)\n",
        "    - [4.1 - Funções úteis](#4-1)\n",
        "        - [Demonstração 3 - sigmoid](#ex-3)\n",
        "    - [4.2 - Inicializando parâmetros](#4-2)\n",
        "        - [Demonstração 4 - inicializando_com_zeros](#ex-4)\n",
        "    - [4.3 - Propagação direta e reversa](#4-3)\n",
        "        - [Demonstração 5 - propagação](#ex-5)\n",
        "    - [4.4 - Optimization](#4-4)\n",
        "        - [Demonstração 6 - otimização](#ex-6)\n",
        "        - [Demonstração 7 - predição](#ex-7)\n",
        "- [5 - Aglutinar todas as funções em um modelo](#5)\n",
        "    - [Demonstração 8 - modelo](#ex-8)\n",
        "- [6 - Análises](#6)\n",
        "- [7 - Testando com sua prória imagem](#7)\n",
        "\n"
      ]
    },
    {
      "cell_type": "markdown",
      "metadata": {
        "id": "5-btR47T-fE1"
      },
      "source": [
        "<a name='1'></a>\n",
        "## 1 - Pacotes ##\n",
        "\n",
        "Primeiro, vamos rodar a célula abaixo para importar todos os pacotes que usaremos durante essa demonstração.\n",
        "- [numpy](https://numpy.org/doc/1.20/) é um pacote fundamental para computação científica com python\n",
        "- [h5py](http://www.h5py.org) é um pacote comum para interagir com arquivos armazenados como .h5\n",
        "- [matplotlib](http://matplotlib.org) é uma famosa biblioteca para plotar gráficos.\n",
        "- [PIL](https://pillow.readthedocs.io/en/stable/) and [scipy](https://www.scipy.org/) são usados para testar o modelo com sua própria figura no final do estudo. "
      ]
    },
    {
      "cell_type": "code",
      "metadata": {
        "id": "EU_MD31z4ZxX"
      },
      "source": [
        "import numpy as np\n",
        "import copy\n",
        "import matplotlib.pyplot as plt\n",
        "import h5py\n",
        "import scipy\n",
        "from PIL import Image\n",
        "from scipy import ndimage\n",
        "from lr_utils  import load_dataset\n",
        "from public_tests import *\n",
        "\n",
        "%matplotlib inline\n",
        "%load_ext autoreload\n",
        "%autoreload 2"
      ],
      "execution_count": 2,
      "outputs": []
    },
    {
      "cell_type": "markdown",
      "metadata": {
        "id": "lDJgZdJPAuoQ"
      },
      "source": [
        "<a name='2'></a>\n",
        "## 2 - Olhando para o problema##\n",
        "\n",
        "**Declaração do Problema**: Foi dado a você um dataset(\"data.h5\") contendo:\n",
        "\n",
        "    - um conjunto de treinamento de imagens m_train rotuladas como gato (y = 1) ou não gato (y = 0)\n",
        "    - um conjunto de teste de imagens m_test rotuladas como gato ou não gato\n",
        "    - cada imagem tem forma (num_px, num_px, 3) onde 3 é para os 3 canais (RGB). Assim, cada imagem é quadrada (altura = num_px) e (largura = num_px).\n",
        "\n",
        "Construiremos um algoritmo de reconhecimento de imagem simples que pode classificar corretamente as imagens como gatos ou não.\n",
        "\n",
        "Vamos nos familiarizar mais com o conjunto de dados. Carregue os dados executando o código a seguir."
      ]
    },
    {
      "cell_type": "code",
      "metadata": {
        "id": "TrOUfrJSCAnO"
      },
      "source": [
        "# Carregando os dados(gatos/não-gatos)\n",
        "train_set_x_orig, train_set_y, test_set_x_orig, test_set_y, classes = load_dataset()"
      ],
      "execution_count": 3,
      "outputs": []
    },
    {
      "cell_type": "markdown",
      "metadata": {
        "id": "eee3At8gCki_"
      },
      "source": [
        "Adicionamos \"_orig\" no final dos dados de imagem (treino e teste) porque iremos fazer uma pré-processamento. Depois de processarm nós vamos acabar tendo train_set_x e test_set_x\n",
        "\n",
        "Cada linha do nosso train_set_x_orig and test_set_x_orig é uma array representando a imagem. Podemos visualizar um exemplo rodando o código abaixo."
      ]
    },
    {
      "cell_type": "code",
      "metadata": {
        "colab": {
          "base_uri": "https://localhost:8080/",
          "height": 285
        },
        "id": "SGQj8w_mCj_P",
        "outputId": "80fde330-c174-4cd0-fd71-a3cdc859d9e7"
      },
      "source": [
        "#Exemplo de imagem\n",
        "index = 50\n",
        "plt.imshow(train_set_x_orig[index])\n",
        "print (\"y = \" + str(train_set_y[:, index]) + \", é um '\" + classes[np.squeeze(train_set_y[:, index])].decode(\"utf-8\") +  \"' na foto.\")"
      ],
      "execution_count": 4,
      "outputs": [
        {
          "output_type": "stream",
          "text": [
            "y = [1], é um 'cat' na foto.\n"
          ],
          "name": "stdout"
        },
        {
          "output_type": "display_data",
          "data": {
            "image/png": "[encoded data removed]",
            "text/plain": [
              "<Figure size 432x288 with 1 Axes>"
            ]
          },
          "metadata": {
            "tags": [],
            "needs_background": "light"
          }
        }
      ]
    },
    {
      "cell_type": "markdown",
      "metadata": {
        "id": "YbvIa6SpNURz"
      },
      "source": [
        "Muitos bugs em aprendizagem profunda vem de ter matrizes/vetores com dimensões que não combinam. Se você puder manter suas matrizes/vetores com dimensões corretas, teremos um longo caminho sem bugs.\n",
        "\n",
        "<a name='ex-1'></a>\n",
        "### Demonstração 1\n",
        "Vamos achar os valores para:\n",
        "\n",
        "    - m_train (número de exemplos para o treino)\n",
        "    - m_test (número de exemplos para o teste)\n",
        "    - num_px (= altura = largura das imagens de treino)\n",
        "\n",
        "Lembre-se que `train_set_x_orig` é uma array numpy com o shape (m_train, num_px, num_px, 3).\n"
      ]
    },
    {
      "cell_type": "code",
      "metadata": {
        "colab": {
          "base_uri": "https://localhost:8080/"
        },
        "id": "dhwzm0j5ChcS",
        "outputId": "c9c1e1af-001a-4da9-fc7b-d920c3fd27a8"
      },
      "source": [
        "m_train = train_set_x_orig.shape[0]\n",
        "m_test = test_set_x_orig.shape[0]\n",
        "num_px = train_set_x_orig.shape[1]\n",
        "\n",
        "print (\"Numero de exemplos para o treinamento: m_train = \" + str(m_train))\n",
        "print (\"Numero de exemplos para o teste: m_test = \" + str(m_test))\n",
        "print (\"Altura/Largura de cada image: num_px = \" + str(num_px))\n",
        "print (\"Cada imagem com o tamanho: (\" + str(num_px) + \", \" + str(num_px) + \", 3)\")\n",
        "print (\"train_set_x shape: \" + str(train_set_x_orig.shape))\n",
        "print (\"train_set_y shape: \" + str(train_set_y.shape))\n",
        "print (\"test_set_x shape: \" + str(test_set_x_orig.shape))\n",
        "print (\"test_set_y shape: \" + str(test_set_y.shape))"
      ],
      "execution_count": 5,
      "outputs": [
        {
          "output_type": "stream",
          "text": [
            "Numero de exemplos para o treinamento: m_train = 209\n",
            "Numero de exemplos para o teste: m_test = 50\n",
            "Altura/Largura de cada image: num_px = 64\n",
            "Cada imagem com o tamanho: (64, 64, 3)\n",
            "train_set_x shape: (209, 64, 64, 3)\n",
            "train_set_y shape: (1, 209)\n",
            "test_set_x shape: (50, 64, 64, 3)\n",
            "test_set_y shape: (1, 50)\n"
          ],
          "name": "stdout"
        }
      ]
    },
    {
      "cell_type": "markdown",
      "metadata": {
        "id": "2V6th4zUX9U3"
      },
      "source": [
        "Remodelaremos os conjuntos de dados de treinamento e teste para que as imagens de tamanho (num_px, num_px, 3) sejam achatadas em vetores únicos de forma (num_px ∗ num_px ∗ 3, 1)."
      ]
    },
    {
      "cell_type": "code",
      "metadata": {
        "colab": {
          "base_uri": "https://localhost:8080/"
        },
        "id": "kRUtHY4DX9Ga",
        "outputId": "c2ed42f6-ba5c-4225-dc03-fb47244c28b3"
      },
      "source": [
        "#Remodelando os dados de treino e teste\n",
        "\n",
        "train_set_x_flatten = train_set_x_orig.reshape(train_set_x_orig.shape[0],-1).T\n",
        "test_set_x_flatten = test_set_x_orig.reshape(test_set_x_orig.shape[0],-1).T\n",
        "\n",
        "print (\"train_set_x_flatten shape: \" + str(train_set_x_flatten.shape))\n",
        "print (\"train_set_y shape: \" + str(train_set_y.shape))\n",
        "print (\"test_set_x_flatten shape: \" + str(test_set_x_flatten.shape))\n",
        "print (\"test_set_y shape: \" + str(test_set_y.shape))"
      ],
      "execution_count": 6,
      "outputs": [
        {
          "output_type": "stream",
          "text": [
            "train_set_x_flatten shape: (12288, 209)\n",
            "train_set_y shape: (1, 209)\n",
            "test_set_x_flatten shape: (12288, 50)\n",
            "test_set_y shape: (1, 50)\n"
          ],
          "name": "stdout"
        }
      ]
    },
    {
      "cell_type": "markdown",
      "metadata": {
        "id": "x6WASx4XcGy4"
      },
      "source": [
        "Para representar imagens coloridas(RGB), deve ser especificado para cada pixel os valores de cada canal, então cada pixel é na verdade um vetor de três números indo de 0 à 255.\n",
        "\n",
        "Um passo de pré-processamento em machine learning é centrar e padronizar nosso conjunto de dados, significando que você subtraí a média de toda array numpy de cada exemplo e depois divide cada exemplo pelo desvio da média padrão de toda numpy array. Porém para um dataset de imagem, é mais simples e mais conveniente e quase sempre entrega um bom resultado simplesmente dividir cada linha do dataset por 255.\n"
      ]
    },
    {
      "cell_type": "code",
      "metadata": {
        "id": "HK4WRBYPdh0O"
      },
      "source": [
        "train_set_x = train_set_x_flatten / 255.\n",
        "test_set_x = test_set_x_flatten / 255."
      ],
      "execution_count": 7,
      "outputs": []
    },
    {
      "cell_type": "markdown",
      "metadata": {
        "id": "znkof7c8dvqK"
      },
      "source": [
        "<font color='blue'>\n",
        "    \n",
        "    \n",
        "**O que precisa ser lembrado:**\n",
        "\n",
        "Passos comuns para pré-processamento de um novo conjunto de dados:\n",
        "- Descobrir as dimensões e formas do problema (m_train, m_test, num_px, ...)\n",
        "- Remodele os conjuntos de dados de forma que cada exemplo seja agora um vetor de tamanho (num_px \\ * num_px \\ * 3, 1)\n",
        "- \"Padronizar\" os dados"
      ]
    },
    {
      "cell_type": "markdown",
      "metadata": {
        "id": "Ro5arVolkYAi"
      },
      "source": [
        "<a name='3'></a>\n",
        "## 3 - Arquitetura geral de um algoritmo de aprendizado ##\n",
        "\n",
        "É hora de projetar um algoritmo simples para distinguir imagens de gatos de imagens que não sejam de gatos.\n",
        "\n",
        "Você vai construir uma regressão logística, usando uma mentalidade de rede neural. A figura a seguir explica por que ** Regressão logística é na verdade uma rede neural muito simples! **\n",
        "\n",
        "![](https://drive.google.com/uc?export=view&id=1I_VwzE_JP4-lVfabHhyoh1DDUmjsfn9G)\n",
        "\n",
        "** Expressão matemática do algoritmo **:\n",
        "\n",
        "\n",
        "Por um exemplo $x^{(i)}$:\n",
        "$$z^{(i)} = w^T x^{(i)} + b \\tag{1}$$\n",
        "$$\\hat{y}^{(i)} = a^{(i)} = sigmoid(z^{(i)})\\tag{2}$$ \n",
        "$$ \\mathcal{L}(a^{(i)}, y^{(i)}) =  - y^{(i)}  \\log(a^{(i)}) - (1-y^{(i)} )  \\log(1-a^{(i)})\\tag{3}$$\n",
        "\n",
        "O custo é então calculado somando todos os exemplos de treinamento:\n",
        "$$ J = \\frac{1}{m} \\sum_{i=1}^m \\mathcal{L}(a^{(i)}, y^{(i)})\\tag{6}$$\n",
        "\n",
        "** Principais etapas **:\n",
        "Neste exercício, você executará as seguintes etapas:\n",
        "\n",
        "    - Inicialize os parâmetros do modelo\n",
        "    - Aprenda os parâmetros do modelo, minimizando o custo\n",
        "    - Use os parâmetros aprendidos para fazer previsões (no conjunto de teste)\n",
        "    - Analisar os resultados e concluir"
      ]
    },
    {
      "cell_type": "markdown",
      "metadata": {
        "id": "mPFyUnyGcYpo"
      },
      "source": [
        "<a name='4'></a>\n",
        "## 4 - Construindo as partes do nosso algoritmo ## \n",
        "\n",
        "Os principais passos para construir uma Rede Neural são:\n",
        "1. Definir a estrutura do modelo (tanto o número de variáveis de entrada\n",
        "2. Inicializar os parâmetros do modelo\n",
        "3. Loop:\n",
        "    - Calcular a perda recorrente (propagação direta)\n",
        "    - Calcular o gradiente (propagação inversa)\n",
        "    - Atualizar os parametros (gradiente descente)\n",
        "\n",
        "Normalmente iremos construir 1-3 separadamente e integrar tudo em umna função que chamaremos `model()`.\n",
        "\n",
        "<a name='4-1'></a>\n",
        "### 4.1 - Funções úteis \n",
        "\n",
        "<a name='ex-3'></a>\n",
        "### Demonstração 3 - sigmoid\n",
        "Vamos implementar uma função chamada `sigmoid()`. Como mostrado na figura acima, precisamos computar $sigmoid(z) = \\frac{1}{1 + e^{-z}}$ para $z = w^T x + b$ para fazer previsões."
      ]
    },
    {
      "cell_type": "code",
      "metadata": {
        "id": "_7HaY0XVkVE_"
      },
      "source": [
        "# Função de classificação: sigmoid\n",
        "\n",
        "def sigmoid(z):\n",
        "  \"\"\"\n",
        "  Calcular o sigmoid de z\n",
        "\n",
        "  Argumentos:\n",
        "  z -- Um número ou uma numpy array de qualquer tamanho\n",
        "\n",
        "  Retorna:\n",
        "  s -- sigmoid(z)\n",
        "  \"\"\"\n",
        "  s = 1/(1 + np.exp(-z))\n",
        "\n",
        "  return s"
      ],
      "execution_count": 8,
      "outputs": []
    },
    {
      "cell_type": "code",
      "metadata": {
        "colab": {
          "base_uri": "https://localhost:8080/"
        },
        "id": "-Fbpvxkxk9ww",
        "outputId": "96a0b5c1-a5ee-40d1-b7d5-3db9c60d61a1"
      },
      "source": [
        "# Teste_1 da função criada\n",
        "\n",
        "print (\"sigmoid([0, 2]) = \" + str(sigmoid(np.array([0,2]))))\n",
        "\n",
        "sigmoid_test(sigmoid)"
      ],
      "execution_count": 9,
      "outputs": [
        {
          "output_type": "stream",
          "text": [
            "sigmoid([0, 2]) = [0.5        0.88079708]\n",
            "\u001b[92mAll tests passed!\n"
          ],
          "name": "stdout"
        }
      ]
    },
    {
      "cell_type": "code",
      "metadata": {
        "colab": {
          "base_uri": "https://localhost:8080/"
        },
        "id": "b_r4lmBik_02",
        "outputId": "8f76c539-5d4d-4212-f6ee-d2f6450c61ce"
      },
      "source": [
        "# Teste_2 da função criada\n",
        "\n",
        "x = np.array([0.5, 0, 2.0])\n",
        "output = sigmoid(x)\n",
        "print(output)"
      ],
      "execution_count": 10,
      "outputs": [
        {
          "output_type": "stream",
          "text": [
            "[0.62245933 0.5        0.88079708]\n"
          ],
          "name": "stdout"
        }
      ]
    },
    {
      "cell_type": "markdown",
      "metadata": {
        "id": "RCkihBnnlU-z"
      },
      "source": [
        "<a name='4-2'></a>\n",
        "### 4.2 - Inicializando parâmetros\n",
        "\n",
        "<a name='ex-4'></a>\n",
        "### Demonstração 4 - inicializando com zeros \n",
        "Vamos implementar uma função de inicialização dos parâmetros W e b, fazendo com que eles se inicializem com valores = 0"
      ]
    },
    {
      "cell_type": "code",
      "metadata": {
        "id": "LlLZHOxqlQXn"
      },
      "source": [
        "def initialize_with_zeros(dim):\n",
        "  \"\"\"\n",
        "  Esta função cria um vetor de zeros com o shape (dim,1) para W e inicializa b com 0\n",
        "\n",
        "  Argumento:\n",
        "  dim -- tamanho do vetor w que queremos(ou número de parametros neste caso)\n",
        "\n",
        "  Retorna:\n",
        "  w -- inicializado como um vetor de tamando (dim,1)\n",
        "  b -- Escalar inicial (correspondente ao viés) do tipo float\n",
        "  \"\"\"\n",
        "  w = np.zeros((dim,1))\n",
        "  b = 0.0\n",
        "\n",
        "  return w, b"
      ],
      "execution_count": 11,
      "outputs": []
    },
    {
      "cell_type": "code",
      "metadata": {
        "colab": {
          "base_uri": "https://localhost:8080/"
        },
        "id": "DXeUClscnChQ",
        "outputId": "7cf788d7-beeb-4643-e2b8-f1eece6047d6"
      },
      "source": [
        "# Teste\n",
        "\n",
        "dim = 2\n",
        "w, b = initialize_with_zeros(dim)\n",
        "\n",
        "assert type(b) == float\n",
        "print (\"w = \" + str(w))\n",
        "print (\"b = \" + str(b))\n",
        "\n",
        "initialize_with_zeros_test(initialize_with_zeros)"
      ],
      "execution_count": 12,
      "outputs": [
        {
          "output_type": "stream",
          "text": [
            "w = [[0.]\n",
            " [0.]]\n",
            "b = 0.0\n",
            "\u001b[92mAll tests passed!\n"
          ],
          "name": "stdout"
        }
      ]
    },
    {
      "cell_type": "markdown",
      "metadata": {
        "id": "KP17_GyTnVjG"
      },
      "source": [
        "<a name='4-3'></a>\n",
        "### 4.3 - Propagação direta e reversa\n",
        "\n",
        "Agora que nossos parâmetros estão inicializados, podemos fazer os passos da propagação direta e reversa para os parâmentros de aprendizado\n",
        "\n",
        "<a name='ex-5'></a>\n",
        "### Demonstação 5 - Propagação\n",
        "Vamos implementar a função `propagate()` que computa a função custo e o seu gradiente.\n",
        "\n",
        "**Fórmulas**:\n",
        "\n",
        "Propagação Direta:\n",
        "- Pegamos X\n",
        "- Computamos $A = \\sigma(w^T X + b) = (a^{(1)}, a^{(2)}, ..., a^{(m-1)}, a^{(m)})$\n",
        "- Calculamos o custo: $J = -\\frac{1}{m}\\sum_{i=1}^{m}(y^{(i)}\\log(a^{(i)})+(1-y^{(i)})\\log(1-a^{(i)}))$\n",
        "\n",
        "Propagação Inversa:\n",
        "\n",
        "As fórmulas que iremos utilizar:\n",
        "\n",
        "\n",
        "$$ \\frac{\\partial J}{\\partial w} = \\frac{1}{m}X(A-Y)^T\\tag{7}$$\n",
        "\n",
        "\n",
        "$$ \\frac{\\partial J}{\\partial b} = \\frac{1}{m} \\sum_{i=1}^m (a^{(i)}-y^{(i)})\\tag{8}$$\n",
        "\n"
      ]
    },
    {
      "cell_type": "code",
      "metadata": {
        "id": "y43EjosBnHQW"
      },
      "source": [
        "def propagate(w, b, X, Y):\n",
        "      \"\"\"\n",
        "      Implementação da função custo e seu gradiente para a propagção explicada acima.\n",
        "\n",
        "      Argumentos:\n",
        "      w -- pesos, uma array numpy de tamanho (num_px * num_px * 3, 1)\n",
        "      b -- viés, um escalar. \n",
        "      X -- dados de tamanho (num_px * num_px * 3, numero de exemplos)\n",
        "      Y -- Vetor de respostas (contendo 0 se não for gato e 1 se for) de tamanho (1, numero de exemplos)\n",
        "\n",
        "      retorna:\n",
        "      \"\"\"\n",
        "      m = X.shape[1]\n",
        "\n",
        "      # Propagação direta (De X para o Custo)\n",
        "\n",
        "      A = sigmoid(np.dot(w.T,X) + b)\n",
        "      cost = (-1/m)*(np.dot(Y,np.log(A).T) + np.dot((1-Y),np.log(1-A).T))\n",
        "\n",
        "      # Propagação Reversa (Achar o gradiente)\n",
        "\n",
        "      dw = 1 / m *(np.dot(X, (A-Y).T))\n",
        "      db = 1 / m *(np.sum(A - Y))\n",
        "\n",
        "      assert(dw.shape == w.shape)\n",
        "      assert(db.dtype == float)\n",
        "    \n",
        "      cost = np.squeeze(np.array(cost))\n",
        "      assert(cost.shape == ())\n",
        "    \n",
        "      grads = {\"dw\": dw,\n",
        "              \"db\": db}\n",
        "    \n",
        "      return grads, cost\n"
      ],
      "execution_count": 38,
      "outputs": []
    },
    {
      "cell_type": "code",
      "metadata": {
        "colab": {
          "base_uri": "https://localhost:8080/"
        },
        "id": "TOuuC_PyqYO_",
        "outputId": "18810f83-47ef-40ec-f52f-3a98ef59fc80"
      },
      "source": [
        "# Teste da função \n",
        "w =  np.array([[1.], [2.]])\n",
        "b = 2.\n",
        "X =np.array([[1., 2., -1.], [3., 4., -3.2]])\n",
        "Y = np.array([[1, 0, 1]])\n",
        "grads, cost = propagate(w, b, X, Y)\n",
        "\n",
        "assert type(grads[\"dw\"]) == np.ndarray\n",
        "assert grads[\"dw\"].shape == (2, 1)\n",
        "assert type(grads[\"db\"]) == np.float64\n",
        "\n",
        "\n",
        "print (\"dw = \" + str(grads[\"dw\"]))\n",
        "print (\"db = \" + str(grads[\"db\"]))\n",
        "print (\"cost = \" + str(cost))\n",
        "\n",
        "propagate_test(propagate)"
      ],
      "execution_count": 39,
      "outputs": [
        {
          "output_type": "stream",
          "text": [
            "dw = [[0.99845601]\n",
            " [2.39507239]]\n",
            "db = 0.001455578136784208\n",
            "cost = 5.801545319394553\n",
            "\u001b[92mAll tests passed!\n"
          ],
          "name": "stdout"
        }
      ]
    },
    {
      "cell_type": "markdown",
      "metadata": {
        "id": "biuddX5T4F7s"
      },
      "source": [
        "<a name='4-4'></a>\n",
        "### 4.4 - Otimização\n",
        "-  Inicializamos os parâmetros.\n",
        "-  Computamos a função custo e seu gradiente \n",
        "-  Precisamos fazer o update dos parâmetros usando gradiente descente\n",
        "\n",
        "### Demonstração 6 - Otimização\n",
        "Vamos escrever a função de otimização. O objetivo é aprender $w$ e $b$ para minimizar a função custo $J$. Para o parâmetro $\\theta$, a fórmula de atualização é $ \\theta = \\theta - \\alpha \\text{ } d\\theta$, onde $\\alpha$ é a taxa de aprendizagem"
      ]
    },
    {
      "cell_type": "code",
      "metadata": {
        "id": "8tAr-jJ14FJc"
      },
      "source": [
        "def optimize(w, b, X, Y, num_iterations=100, learning_rate=0.009, print_cost=False):\n",
        "  \"\"\"\n",
        "  Esta função otimiza w e b rodando o algoritmo gradiente descendente\n",
        "\n",
        "  Argumentos:\n",
        "  w -- pesos, uma array numpy de tamanho(num_px*num_px*3, 1)\n",
        "  b -- viés,um escalar\n",
        "  X -- Dados de formato (num_px * num_px * 3, 1)\n",
        "  Y -- Vetor de respostas de formato(1, numero de exemplos)\n",
        "  num_iterations -- numero de iterações do loop de otimização\n",
        "  learning_rate -- taxa de aprendizado do gradiente descendente\n",
        "  print_cost -- Verdadeiro para printar a perda a cada 100 passos\n",
        "\n",
        "  Retorna:\n",
        "  params -- Dicionario contendo os pesos w e os vieses b\n",
        "  grads -- Dicionario contendo os gradientes dos pesos e vieses com sua respectiva função custo\n",
        "  costs -- lista de todos os custos computados durante a otimização, será usado para plotar o gráfico de aprendizado\n",
        "  \"\"\"\n",
        "  w = copy.deepcopy(w)\n",
        "  b = copy.deepcopy(b)\n",
        "\n",
        "  costs = []\n",
        "\n",
        "  for i in range(num_iterations):\n",
        "    \n",
        "    #  Calculo do custo e gradiente\n",
        "    grads,cost = propagate(w, b, X, Y)\n",
        "\n",
        "    # Pegando os valores de grads\n",
        "    dw = grads[\"dw\"]\n",
        "    db = grads[\"db\"]\n",
        "\n",
        "    #Regra de update\n",
        "    w = w - learning_rate*dw\n",
        "    b = b - learning_rate*db\n",
        "\n",
        "    #Guardando dados\n",
        "    if i % 100 == 0:\n",
        "      costs.append(cost)\n",
        "\n",
        "      if print_cost:\n",
        "        print(\"Custo depois da iteração %i: %f\" %(i, cost))\n",
        "\n",
        "  params = {\"w\":w,\n",
        "            \"b\":b}\n",
        "\n",
        "  grads = {\"dw\":dw,\n",
        "            \"db\":db}\n",
        "  return params, grads, costs\n"
      ],
      "execution_count": 51,
      "outputs": []
    },
    {
      "cell_type": "code",
      "metadata": {
        "colab": {
          "base_uri": "https://localhost:8080/"
        },
        "id": "n1Hrr2bL0BOL",
        "outputId": "7c107cf4-a297-4c71-cf68-6f80516b57ef"
      },
      "source": [
        "params, grads, costs = optimize(w, b, X, Y, num_iterations=100, learning_rate=0.009, print_cost=False)\n",
        "\n",
        "print (\"w = \" + str(params[\"w\"]))\n",
        "print (\"b = \" + str(params[\"b\"]))\n",
        "print (\"dw = \" + str(grads[\"dw\"]))\n",
        "print (\"db = \" + str(grads[\"db\"]))\n",
        "print(\"Costs = \" + str(costs))\n",
        "\n",
        "optimize_test(optimize)"
      ],
      "execution_count": 52,
      "outputs": [
        {
          "output_type": "stream",
          "text": [
            "w = [[0.19033591]\n",
            " [0.12259159]]\n",
            "b = 1.9253598300845747\n",
            "dw = [[0.67752042]\n",
            " [1.41625495]]\n",
            "db = 0.21919450454067652\n",
            "Costs = [array(5.80154532)]\n",
            "\u001b[92mAll tests passed!\n"
          ],
          "name": "stdout"
        }
      ]
    },
    {
      "cell_type": "markdown",
      "metadata": {
        "id": "EemtpvFuMRiv"
      },
      "source": [
        "<a name='ex-7'></a>\n",
        "### Exercise 7 - predição\n",
        "A função anterior irá ter como o output w e b. \n",
        "Nós podemos usar w e b para predizer as respostar para o dataset X. Vamos implementar a função `predict()`. Para isso devemos seguir os seguintes passos:\n",
        "\n",
        "1. Calcular $\\hat{Y} = A = \\sigma(w^T X + b)$\n",
        "\n",
        "2. Converter as entradas em 0 (se a ativação <= 0.5) ou 1( se ativação > 0.5), guardar as predições em `Y_prediction`.\n",
        "\n",
        "\n"
      ]
    },
    {
      "cell_type": "code",
      "metadata": {
        "id": "TNhciMRe0FuT"
      },
      "source": [
        "def predict(w, b, X):\n",
        "  \"\"\"\n",
        "  Predizer quando a resposta for 0 ou 1 usando regressão logistica\n",
        "  \n",
        "  Argumentos:\n",
        "  w -- pesos, uma array numpy de tamanho(num_px*num_px*3, 1)\n",
        "  b -- viés, escalar.\n",
        "  X -- Dados de formato (num_px * num_px * 3, 1)\n",
        "\n",
        "  Retorna:\n",
        "\n",
        "  Y_prediction -- uma array numpy (vetor) contendo todas predições (0/1) para os exemplos em X\n",
        "  \"\"\"\n",
        "  m = X.shape[1]\n",
        "  Y_prediction = np.zeros((1, m))\n",
        "  w = w.reshape(X.shape[0],1)\n",
        "\n",
        "  #Computar o vetor A prevendo a probabilidade de ser um gato na figura\n",
        "  A = sigmoid(np.dot(w.T,X) + b)\n",
        "\n",
        "  for i in range(A.shape[1]):\n",
        "        \n",
        "    if (A[0][i] <= 0.5):\n",
        "      Y_prediction[0][i] = 0\n",
        "    else:\n",
        "      Y_prediction[0][i] = 1\n",
        "      \n",
        "  return Y_prediction       "
      ],
      "execution_count": 53,
      "outputs": []
    },
    {
      "cell_type": "code",
      "metadata": {
        "colab": {
          "base_uri": "https://localhost:8080/"
        },
        "id": "04p-Zrn00QL0",
        "outputId": "e94896e3-0485-4177-a79b-d1553fd56137"
      },
      "source": [
        "w = np.array([[0.1124579], [0.23106775]])\n",
        "b = -0.3\n",
        "X = np.array([[1., -1.1, -3.2],[1.2, 2., 0.1]])\n",
        "print (\"predictions = \" + str(predict(w, b, X)))\n",
        "\n",
        "predict_test(predict)"
      ],
      "execution_count": 54,
      "outputs": [
        {
          "output_type": "stream",
          "text": [
            "predictions = [[1. 1. 0.]]\n",
            "\u001b[92mAll tests passed!\n"
          ],
          "name": "stdout"
        }
      ]
    },
    {
      "cell_type": "code",
      "metadata": {
        "id": "B6tAlHpvO8GX"
      },
      "source": [
        "# GRADED FUNCTION: model\n",
        "\n",
        "def model(X_train, Y_train, X_test, Y_test, num_iterations=10000, learning_rate=0.5, print_cost=False):\n",
        "    \"\"\"\n",
        "    Builds the logistic regression model by calling the function you've implemented previously\n",
        "    \n",
        "    Arguments:\n",
        "    X_train -- training set represented by a numpy array of shape (num_px * num_px * 3, m_train)\n",
        "    Y_train -- training labels represented by a numpy array (vector) of shape (1, m_train)\n",
        "    X_test -- test set represented by a numpy array of shape (num_px * num_px * 3, m_test)\n",
        "    Y_test -- test labels represented by a numpy array (vector) of shape (1, m_test)\n",
        "    num_iterations -- hyperparameter representing the number of iterations to optimize the parameters\n",
        "    learning_rate -- hyperparameter representing the learning rate used in the update rule of optimize()\n",
        "    print_cost -- Set to True to print the cost every 100 iterations\n",
        "    \n",
        "    Returns:\n",
        "    d -- dictionary containing information about the model.\n",
        "    \"\"\"\n",
        "    # (≈ 1 line of code)   \n",
        "    # initialize parameters with zeros \n",
        "    # w, b = w, b = initialize_with_zeros(X_train.shape[0])\n",
        "    \n",
        "    #(≈ 1 line of code)\n",
        "    # Gradient descent \n",
        "    # params, grads, costs = ...\n",
        "    \n",
        "    # Retrieve parameters w and b from dictionary \"params\"\n",
        "    # w = ...\n",
        "    # b = ...\n",
        "    \n",
        "    # Predict test/train set examples (≈ 2 lines of code)\n",
        "    # Y_prediction_test = ...\n",
        "    # Y_prediction_train = ...\n",
        "    \n",
        "    # YOUR CODE STARTS HERE\n",
        "    w, b = initialize_with_zeros(X_train.shape[0])\n",
        "    \n",
        "    parameters, grads, costs =  optimize(w, b, X_train, Y_train, num_iterations, learning_rate, print_cost)\n",
        "    \n",
        "    \n",
        "    w = parameters[\"w\"]\n",
        "    b = parameters[\"b\"]\n",
        "    \n",
        "    Y_prediction_test = predict(w, b, X_test)\n",
        "    Y_prediction_train = predict(w, b, X_train)\n",
        "    \n",
        "    # YOUR CODE ENDS HERE\n",
        "\n",
        "    # Print train/test Errors\n",
        "    if print_cost:\n",
        "        print(\"train accuracy: {} %\".format(100 - np.mean(np.abs(Y_prediction_train - Y_train)) * 100))\n",
        "        print(\"test accuracy: {} %\".format(100 - np.mean(np.abs(Y_prediction_test - Y_test)) * 100))\n",
        "\n",
        "    \n",
        "    d = {\"costs\": costs,\n",
        "         \"Y_prediction_test\": Y_prediction_test, \n",
        "         \"Y_prediction_train\" : Y_prediction_train, \n",
        "         \"w\" : w, \n",
        "         \"b\" : b,\n",
        "         \"learning_rate\" : learning_rate,\n",
        "         \"num_iterations\": num_iterations}\n",
        "    \n",
        "    return d"
      ],
      "execution_count": 58,
      "outputs": []
    },
    {
      "cell_type": "code",
      "metadata": {
        "colab": {
          "base_uri": "https://localhost:8080/"
        },
        "id": "huYxhA8ePS9-",
        "outputId": "a505ca38-a159-4e7b-ff00-96183cda56bd"
      },
      "source": [
        "model_test(model)"
      ],
      "execution_count": 59,
      "outputs": [
        {
          "output_type": "stream",
          "text": [
            "\u001b[92mAll tests passed!\n"
          ],
          "name": "stdout"
        }
      ]
    },
    {
      "cell_type": "code",
      "metadata": {
        "colab": {
          "base_uri": "https://localhost:8080/"
        },
        "id": "JQgCq5F_PVEO",
        "outputId": "c8e34642-d309-4059-d57e-da0e22179a4f"
      },
      "source": [
        "logistic_regression_model = model(train_set_x, train_set_y, test_set_x, test_set_y, num_iterations=50000, learning_rate=0.005, print_cost=True)"
      ],
      "execution_count": 62,
      "outputs": [
        {
          "output_type": "stream",
          "text": [
            "Custo depois da iteração 0: 0.693147\n",
            "Custo depois da iteração 100: 0.584508\n",
            "Custo depois da iteração 200: 0.466949\n",
            "Custo depois da iteração 300: 0.376007\n",
            "Custo depois da iteração 400: 0.331463\n",
            "Custo depois da iteração 500: 0.303273\n",
            "Custo depois da iteração 600: 0.279880\n",
            "Custo depois da iteração 700: 0.260042\n",
            "Custo depois da iteração 800: 0.242941\n",
            "Custo depois da iteração 900: 0.228004\n",
            "Custo depois da iteração 1000: 0.214820\n",
            "Custo depois da iteração 1100: 0.203078\n",
            "Custo depois da iteração 1200: 0.192544\n",
            "Custo depois da iteração 1300: 0.183033\n",
            "Custo depois da iteração 1400: 0.174399\n",
            "Custo depois da iteração 1500: 0.166521\n",
            "Custo depois da iteração 1600: 0.159305\n",
            "Custo depois da iteração 1700: 0.152667\n",
            "Custo depois da iteração 1800: 0.146542\n",
            "Custo depois da iteração 1900: 0.140872\n",
            "Custo depois da iteração 2000: 0.135608\n",
            "Custo depois da iteração 2100: 0.130708\n",
            "Custo depois da iteração 2200: 0.126137\n",
            "Custo depois da iteração 2300: 0.121861\n",
            "Custo depois da iteração 2400: 0.117855\n",
            "Custo depois da iteração 2500: 0.114093\n",
            "Custo depois da iteração 2600: 0.110554\n",
            "Custo depois da iteração 2700: 0.107219\n",
            "Custo depois da iteração 2800: 0.104072\n",
            "Custo depois da iteração 2900: 0.101097\n",
            "Custo depois da iteração 3000: 0.098280\n",
            "Custo depois da iteração 3100: 0.095610\n",
            "Custo depois da iteração 3200: 0.093075\n",
            "Custo depois da iteração 3300: 0.090667\n",
            "Custo depois da iteração 3400: 0.088374\n",
            "Custo depois da iteração 3500: 0.086190\n",
            "Custo depois da iteração 3600: 0.084108\n",
            "Custo depois da iteração 3700: 0.082119\n",
            "Custo depois da iteração 3800: 0.080219\n",
            "Custo depois da iteração 3900: 0.078402\n",
            "Custo depois da iteração 4000: 0.076662\n",
            "Custo depois da iteração 4100: 0.074994\n",
            "Custo depois da iteração 4200: 0.073395\n",
            "Custo depois da iteração 4300: 0.071860\n",
            "Custo depois da iteração 4400: 0.070385\n",
            "Custo depois da iteração 4500: 0.068968\n",
            "Custo depois da iteração 4600: 0.067604\n",
            "Custo depois da iteração 4700: 0.066291\n",
            "Custo depois da iteração 4800: 0.065027\n",
            "Custo depois da iteração 4900: 0.063807\n",
            "Custo depois da iteração 5000: 0.062631\n",
            "Custo depois da iteração 5100: 0.061496\n",
            "Custo depois da iteração 5200: 0.060400\n",
            "Custo depois da iteração 5300: 0.059341\n",
            "Custo depois da iteração 5400: 0.058317\n",
            "Custo depois da iteração 5500: 0.057327\n",
            "Custo depois da iteração 5600: 0.056368\n",
            "Custo depois da iteração 5700: 0.055440\n",
            "Custo depois da iteração 5800: 0.054541\n",
            "Custo depois da iteração 5900: 0.053669\n",
            "Custo depois da iteração 6000: 0.052824\n",
            "Custo depois da iteração 6100: 0.052005\n",
            "Custo depois da iteração 6200: 0.051209\n",
            "Custo depois da iteração 6300: 0.050436\n",
            "Custo depois da iteração 6400: 0.049686\n",
            "Custo depois da iteração 6500: 0.048957\n",
            "Custo depois da iteração 6600: 0.048248\n",
            "Custo depois da iteração 6700: 0.047559\n",
            "Custo depois da iteração 6800: 0.046888\n",
            "Custo depois da iteração 6900: 0.046236\n",
            "Custo depois da iteração 7000: 0.045601\n",
            "Custo depois da iteração 7100: 0.044982\n",
            "Custo depois da iteração 7200: 0.044380\n",
            "Custo depois da iteração 7300: 0.043793\n",
            "Custo depois da iteração 7400: 0.043220\n",
            "Custo depois da iteração 7500: 0.042662\n",
            "Custo depois da iteração 7600: 0.042118\n",
            "Custo depois da iteração 7700: 0.041587\n",
            "Custo depois da iteração 7800: 0.041069\n",
            "Custo depois da iteração 7900: 0.040563\n",
            "Custo depois da iteração 8000: 0.040069\n",
            "Custo depois da iteração 8100: 0.039587\n",
            "Custo depois da iteração 8200: 0.039116\n",
            "Custo depois da iteração 8300: 0.038655\n",
            "Custo depois da iteração 8400: 0.038205\n",
            "Custo depois da iteração 8500: 0.037765\n",
            "Custo depois da iteração 8600: 0.037335\n",
            "Custo depois da iteração 8700: 0.036914\n",
            "Custo depois da iteração 8800: 0.036502\n",
            "Custo depois da iteração 8900: 0.036099\n",
            "Custo depois da iteração 9000: 0.035704\n",
            "Custo depois da iteração 9100: 0.035318\n",
            "Custo depois da iteração 9200: 0.034940\n",
            "Custo depois da iteração 9300: 0.034570\n",
            "Custo depois da iteração 9400: 0.034207\n",
            "Custo depois da iteração 9500: 0.033851\n",
            "Custo depois da iteração 9600: 0.033503\n",
            "Custo depois da iteração 9700: 0.033161\n",
            "Custo depois da iteração 9800: 0.032826\n",
            "Custo depois da iteração 9900: 0.032498\n",
            "Custo depois da iteração 10000: 0.032176\n",
            "Custo depois da iteração 10100: 0.031860\n",
            "Custo depois da iteração 10200: 0.031550\n",
            "Custo depois da iteração 10300: 0.031246\n",
            "Custo depois da iteração 10400: 0.030948\n",
            "Custo depois da iteração 10500: 0.030655\n",
            "Custo depois da iteração 10600: 0.030367\n",
            "Custo depois da iteração 10700: 0.030085\n",
            "Custo depois da iteração 10800: 0.029808\n",
            "Custo depois da iteração 10900: 0.029535\n",
            "Custo depois da iteração 11000: 0.029268\n",
            "Custo depois da iteração 11100: 0.029005\n",
            "Custo depois da iteração 11200: 0.028747\n",
            "Custo depois da iteração 11300: 0.028493\n",
            "Custo depois da iteração 11400: 0.028243\n",
            "Custo depois da iteração 11500: 0.027998\n",
            "Custo depois da iteração 11600: 0.027757\n",
            "Custo depois da iteração 11700: 0.027520\n",
            "Custo depois da iteração 11800: 0.027287\n",
            "Custo depois da iteração 11900: 0.027057\n",
            "Custo depois da iteração 12000: 0.026831\n",
            "Custo depois da iteração 12100: 0.026609\n",
            "Custo depois da iteração 12200: 0.026391\n",
            "Custo depois da iteração 12300: 0.026176\n",
            "Custo depois da iteração 12400: 0.025964\n",
            "Custo depois da iteração 12500: 0.025756\n",
            "Custo depois da iteração 12600: 0.025551\n",
            "Custo depois da iteração 12700: 0.025349\n",
            "Custo depois da iteração 12800: 0.025150\n",
            "Custo depois da iteração 12900: 0.024955\n",
            "Custo depois da iteração 13000: 0.024762\n",
            "Custo depois da iteração 13100: 0.024572\n",
            "Custo depois da iteração 13200: 0.024385\n",
            "Custo depois da iteração 13300: 0.024200\n",
            "Custo depois da iteração 13400: 0.024019\n",
            "Custo depois da iteração 13500: 0.023840\n",
            "Custo depois da iteração 13600: 0.023664\n",
            "Custo depois da iteração 13700: 0.023490\n",
            "Custo depois da iteração 13800: 0.023318\n",
            "Custo depois da iteração 13900: 0.023149\n",
            "Custo depois da iteração 14000: 0.022983\n",
            "Custo depois da iteração 14100: 0.022819\n",
            "Custo depois da iteração 14200: 0.022657\n",
            "Custo depois da iteração 14300: 0.022497\n",
            "Custo depois da iteração 14400: 0.022339\n",
            "Custo depois da iteração 14500: 0.022184\n",
            "Custo depois da iteração 14600: 0.022031\n",
            "Custo depois da iteração 14700: 0.021880\n",
            "Custo depois da iteração 14800: 0.021730\n",
            "Custo depois da iteração 14900: 0.021583\n",
            "Custo depois da iteração 15000: 0.021438\n",
            "Custo depois da iteração 15100: 0.021295\n",
            "Custo depois da iteração 15200: 0.021153\n",
            "Custo depois da iteração 15300: 0.021014\n",
            "Custo depois da iteração 15400: 0.020876\n",
            "Custo depois da iteração 15500: 0.020740\n",
            "Custo depois da iteração 15600: 0.020605\n",
            "Custo depois da iteração 15700: 0.020473\n",
            "Custo depois da iteração 15800: 0.020342\n",
            "Custo depois da iteração 15900: 0.020212\n",
            "Custo depois da iteração 16000: 0.020084\n",
            "Custo depois da iteração 16100: 0.019958\n",
            "Custo depois da iteração 16200: 0.019834\n",
            "Custo depois da iteração 16300: 0.019711\n",
            "Custo depois da iteração 16400: 0.019589\n",
            "Custo depois da iteração 16500: 0.019469\n",
            "Custo depois da iteração 16600: 0.019350\n",
            "Custo depois da iteração 16700: 0.019233\n",
            "Custo depois da iteração 16800: 0.019117\n",
            "Custo depois da iteração 16900: 0.019002\n",
            "Custo depois da iteração 17000: 0.018889\n",
            "Custo depois da iteração 17100: 0.018777\n",
            "Custo depois da iteração 17200: 0.018667\n",
            "Custo depois da iteração 17300: 0.018557\n",
            "Custo depois da iteração 17400: 0.018449\n",
            "Custo depois da iteração 17500: 0.018342\n",
            "Custo depois da iteração 17600: 0.018237\n",
            "Custo depois da iteração 17700: 0.018132\n",
            "Custo depois da iteração 17800: 0.018029\n",
            "Custo depois da iteração 17900: 0.017927\n",
            "Custo depois da iteração 18000: 0.017826\n",
            "Custo depois da iteração 18100: 0.017726\n",
            "Custo depois da iteração 18200: 0.017627\n",
            "Custo depois da iteração 18300: 0.017530\n",
            "Custo depois da iteração 18400: 0.017433\n",
            "Custo depois da iteração 18500: 0.017337\n",
            "Custo depois da iteração 18600: 0.017243\n",
            "Custo depois da iteração 18700: 0.017149\n",
            "Custo depois da iteração 18800: 0.017057\n",
            "Custo depois da iteração 18900: 0.016965\n",
            "Custo depois da iteração 19000: 0.016874\n",
            "Custo depois da iteração 19100: 0.016785\n",
            "Custo depois da iteração 19200: 0.016696\n",
            "Custo depois da iteração 19300: 0.016608\n",
            "Custo depois da iteração 19400: 0.016521\n",
            "Custo depois da iteração 19500: 0.016435\n",
            "Custo depois da iteração 19600: 0.016350\n",
            "Custo depois da iteração 19700: 0.016266\n",
            "Custo depois da iteração 19800: 0.016182\n",
            "Custo depois da iteração 19900: 0.016100\n",
            "Custo depois da iteração 20000: 0.016018\n",
            "Custo depois da iteração 20100: 0.015937\n",
            "Custo depois da iteração 20200: 0.015857\n",
            "Custo depois da iteração 20300: 0.015777\n",
            "Custo depois da iteração 20400: 0.015699\n",
            "Custo depois da iteração 20500: 0.015621\n",
            "Custo depois da iteração 20600: 0.015544\n",
            "Custo depois da iteração 20700: 0.015468\n",
            "Custo depois da iteração 20800: 0.015392\n",
            "Custo depois da iteração 20900: 0.015317\n",
            "Custo depois da iteração 21000: 0.015243\n",
            "Custo depois da iteração 21100: 0.015170\n",
            "Custo depois da iteração 21200: 0.015097\n",
            "Custo depois da iteração 21300: 0.015025\n",
            "Custo depois da iteração 21400: 0.014953\n",
            "Custo depois da iteração 21500: 0.014883\n",
            "Custo depois da iteração 21600: 0.014813\n",
            "Custo depois da iteração 21700: 0.014743\n",
            "Custo depois da iteração 21800: 0.014674\n",
            "Custo depois da iteração 21900: 0.014606\n",
            "Custo depois da iteração 22000: 0.014539\n",
            "Custo depois da iteração 22100: 0.014472\n",
            "Custo depois da iteração 22200: 0.014406\n",
            "Custo depois da iteração 22300: 0.014340\n",
            "Custo depois da iteração 22400: 0.014275\n",
            "Custo depois da iteração 22500: 0.014210\n",
            "Custo depois da iteração 22600: 0.014146\n",
            "Custo depois da iteração 22700: 0.014083\n",
            "Custo depois da iteração 22800: 0.014020\n",
            "Custo depois da iteração 22900: 0.013958\n",
            "Custo depois da iteração 23000: 0.013896\n",
            "Custo depois da iteração 23100: 0.013835\n",
            "Custo depois da iteração 23200: 0.013774\n",
            "Custo depois da iteração 23300: 0.013714\n",
            "Custo depois da iteração 23400: 0.013654\n",
            "Custo depois da iteração 23500: 0.013595\n",
            "Custo depois da iteração 23600: 0.013537\n",
            "Custo depois da iteração 23700: 0.013478\n",
            "Custo depois da iteração 23800: 0.013421\n",
            "Custo depois da iteração 23900: 0.013364\n",
            "Custo depois da iteração 24000: 0.013307\n",
            "Custo depois da iteração 24100: 0.013251\n",
            "Custo depois da iteração 24200: 0.013195\n",
            "Custo depois da iteração 24300: 0.013140\n",
            "Custo depois da iteração 24400: 0.013085\n",
            "Custo depois da iteração 24500: 0.013031\n",
            "Custo depois da iteração 24600: 0.012977\n",
            "Custo depois da iteração 24700: 0.012923\n",
            "Custo depois da iteração 24800: 0.012870\n",
            "Custo depois da iteração 24900: 0.012818\n",
            "Custo depois da iteração 25000: 0.012765\n",
            "Custo depois da iteração 25100: 0.012714\n",
            "Custo depois da iteração 25200: 0.012662\n",
            "Custo depois da iteração 25300: 0.012611\n",
            "Custo depois da iteração 25400: 0.012561\n",
            "Custo depois da iteração 25500: 0.012511\n",
            "Custo depois da iteração 25600: 0.012461\n",
            "Custo depois da iteração 25700: 0.012411\n",
            "Custo depois da iteração 25800: 0.012362\n",
            "Custo depois da iteração 25900: 0.012314\n",
            "Custo depois da iteração 26000: 0.012266\n",
            "Custo depois da iteração 26100: 0.012218\n",
            "Custo depois da iteração 26200: 0.012170\n",
            "Custo depois da iteração 26300: 0.012123\n",
            "Custo depois da iteração 26400: 0.012076\n",
            "Custo depois da iteração 26500: 0.012030\n",
            "Custo depois da iteração 26600: 0.011984\n",
            "Custo depois da iteração 26700: 0.011938\n",
            "Custo depois da iteração 26800: 0.011893\n",
            "Custo depois da iteração 26900: 0.011848\n",
            "Custo depois da iteração 27000: 0.011803\n",
            "Custo depois da iteração 27100: 0.011759\n",
            "Custo depois da iteração 27200: 0.011715\n",
            "Custo depois da iteração 27300: 0.011671\n",
            "Custo depois da iteração 27400: 0.011628\n",
            "Custo depois da iteração 27500: 0.011585\n",
            "Custo depois da iteração 27600: 0.011542\n",
            "Custo depois da iteração 27700: 0.011499\n",
            "Custo depois da iteração 27800: 0.011457\n",
            "Custo depois da iteração 27900: 0.011415\n",
            "Custo depois da iteração 28000: 0.011374\n",
            "Custo depois da iteração 28100: 0.011333\n",
            "Custo depois da iteração 28200: 0.011292\n",
            "Custo depois da iteração 28300: 0.011251\n",
            "Custo depois da iteração 28400: 0.011211\n",
            "Custo depois da iteração 28500: 0.011171\n",
            "Custo depois da iteração 28600: 0.011131\n",
            "Custo depois da iteração 28700: 0.011091\n",
            "Custo depois da iteração 28800: 0.011052\n",
            "Custo depois da iteração 28900: 0.011013\n",
            "Custo depois da iteração 29000: 0.010975\n",
            "Custo depois da iteração 29100: 0.010936\n",
            "Custo depois da iteração 29200: 0.010898\n",
            "Custo depois da iteração 29300: 0.010860\n",
            "Custo depois da iteração 29400: 0.010822\n",
            "Custo depois da iteração 29500: 0.010785\n",
            "Custo depois da iteração 29600: 0.010748\n",
            "Custo depois da iteração 29700: 0.010711\n",
            "Custo depois da iteração 29800: 0.010674\n",
            "Custo depois da iteração 29900: 0.010638\n",
            "Custo depois da iteração 30000: 0.010602\n",
            "Custo depois da iteração 30100: 0.010566\n",
            "Custo depois da iteração 30200: 0.010530\n",
            "Custo depois da iteração 30300: 0.010495\n",
            "Custo depois da iteração 30400: 0.010460\n",
            "Custo depois da iteração 30500: 0.010425\n",
            "Custo depois da iteração 30600: 0.010390\n",
            "Custo depois da iteração 30700: 0.010356\n",
            "Custo depois da iteração 30800: 0.010322\n",
            "Custo depois da iteração 30900: 0.010288\n",
            "Custo depois da iteração 31000: 0.010254\n",
            "Custo depois da iteração 31100: 0.010220\n",
            "Custo depois da iteração 31200: 0.010187\n",
            "Custo depois da iteração 31300: 0.010154\n",
            "Custo depois da iteração 31400: 0.010121\n",
            "Custo depois da iteração 31500: 0.010088\n",
            "Custo depois da iteração 31600: 0.010055\n",
            "Custo depois da iteração 31700: 0.010023\n",
            "Custo depois da iteração 31800: 0.009991\n",
            "Custo depois da iteração 31900: 0.009959\n",
            "Custo depois da iteração 32000: 0.009927\n",
            "Custo depois da iteração 32100: 0.009896\n",
            "Custo depois da iteração 32200: 0.009865\n",
            "Custo depois da iteração 32300: 0.009833\n",
            "Custo depois da iteração 32400: 0.009803\n",
            "Custo depois da iteração 32500: 0.009772\n",
            "Custo depois da iteração 32600: 0.009741\n",
            "Custo depois da iteração 32700: 0.009711\n",
            "Custo depois da iteração 32800: 0.009681\n",
            "Custo depois da iteração 32900: 0.009651\n",
            "Custo depois da iteração 33000: 0.009621\n",
            "Custo depois da iteração 33100: 0.009591\n",
            "Custo depois da iteração 33200: 0.009562\n",
            "Custo depois da iteração 33300: 0.009533\n",
            "Custo depois da iteração 33400: 0.009504\n",
            "Custo depois da iteração 33500: 0.009475\n",
            "Custo depois da iteração 33600: 0.009446\n",
            "Custo depois da iteração 33700: 0.009417\n",
            "Custo depois da iteração 33800: 0.009389\n",
            "Custo depois da iteração 33900: 0.009361\n",
            "Custo depois da iteração 34000: 0.009333\n",
            "Custo depois da iteração 34100: 0.009305\n",
            "Custo depois da iteração 34200: 0.009277\n",
            "Custo depois da iteração 34300: 0.009250\n",
            "Custo depois da iteração 34400: 0.009222\n",
            "Custo depois da iteração 34500: 0.009195\n",
            "Custo depois da iteração 34600: 0.009168\n",
            "Custo depois da iteração 34700: 0.009141\n",
            "Custo depois da iteração 34800: 0.009114\n",
            "Custo depois da iteração 34900: 0.009088\n",
            "Custo depois da iteração 35000: 0.009061\n",
            "Custo depois da iteração 35100: 0.009035\n",
            "Custo depois da iteração 35200: 0.009009\n",
            "Custo depois da iteração 35300: 0.008983\n",
            "Custo depois da iteração 35400: 0.008957\n",
            "Custo depois da iteração 35500: 0.008931\n",
            "Custo depois da iteração 35600: 0.008906\n",
            "Custo depois da iteração 35700: 0.008880\n",
            "Custo depois da iteração 35800: 0.008855\n",
            "Custo depois da iteração 35900: 0.008830\n",
            "Custo depois da iteração 36000: 0.008805\n",
            "Custo depois da iteração 36100: 0.008780\n",
            "Custo depois da iteração 36200: 0.008755\n",
            "Custo depois da iteração 36300: 0.008731\n",
            "Custo depois da iteração 36400: 0.008706\n",
            "Custo depois da iteração 36500: 0.008682\n",
            "Custo depois da iteração 36600: 0.008658\n",
            "Custo depois da iteração 36700: 0.008634\n",
            "Custo depois da iteração 36800: 0.008610\n",
            "Custo depois da iteração 36900: 0.008586\n",
            "Custo depois da iteração 37000: 0.008563\n",
            "Custo depois da iteração 37100: 0.008539\n",
            "Custo depois da iteração 37200: 0.008516\n",
            "Custo depois da iteração 37300: 0.008492\n",
            "Custo depois da iteração 37400: 0.008469\n",
            "Custo depois da iteração 37500: 0.008446\n",
            "Custo depois da iteração 37600: 0.008423\n",
            "Custo depois da iteração 37700: 0.008401\n",
            "Custo depois da iteração 37800: 0.008378\n",
            "Custo depois da iteração 37900: 0.008356\n",
            "Custo depois da iteração 38000: 0.008333\n",
            "Custo depois da iteração 38100: 0.008311\n",
            "Custo depois da iteração 38200: 0.008289\n",
            "Custo depois da iteração 38300: 0.008267\n",
            "Custo depois da iteração 38400: 0.008245\n",
            "Custo depois da iteração 38500: 0.008223\n",
            "Custo depois da iteração 38600: 0.008201\n",
            "Custo depois da iteração 38700: 0.008180\n",
            "Custo depois da iteração 38800: 0.008158\n",
            "Custo depois da iteração 38900: 0.008137\n",
            "Custo depois da iteração 39000: 0.008116\n",
            "Custo depois da iteração 39100: 0.008094\n",
            "Custo depois da iteração 39200: 0.008073\n",
            "Custo depois da iteração 39300: 0.008053\n",
            "Custo depois da iteração 39400: 0.008032\n",
            "Custo depois da iteração 39500: 0.008011\n",
            "Custo depois da iteração 39600: 0.007990\n",
            "Custo depois da iteração 39700: 0.007970\n",
            "Custo depois da iteração 39800: 0.007950\n",
            "Custo depois da iteração 39900: 0.007929\n",
            "Custo depois da iteração 40000: 0.007909\n",
            "Custo depois da iteração 40100: 0.007889\n",
            "Custo depois da iteração 40200: 0.007869\n",
            "Custo depois da iteração 40300: 0.007849\n",
            "Custo depois da iteração 40400: 0.007829\n",
            "Custo depois da iteração 40500: 0.007810\n",
            "Custo depois da iteração 40600: 0.007790\n",
            "Custo depois da iteração 40700: 0.007771\n",
            "Custo depois da iteração 40800: 0.007751\n",
            "Custo depois da iteração 40900: 0.007732\n",
            "Custo depois da iteração 41000: 0.007713\n",
            "Custo depois da iteração 41100: 0.007694\n",
            "Custo depois da iteração 41200: 0.007675\n",
            "Custo depois da iteração 41300: 0.007656\n",
            "Custo depois da iteração 41400: 0.007637\n",
            "Custo depois da iteração 41500: 0.007618\n",
            "Custo depois da iteração 41600: 0.007599\n",
            "Custo depois da iteração 41700: 0.007581\n",
            "Custo depois da iteração 41800: 0.007562\n",
            "Custo depois da iteração 41900: 0.007544\n",
            "Custo depois da iteração 42000: 0.007526\n",
            "Custo depois da iteração 42100: 0.007508\n",
            "Custo depois da iteração 42200: 0.007489\n",
            "Custo depois da iteração 42300: 0.007471\n",
            "Custo depois da iteração 42400: 0.007453\n",
            "Custo depois da iteração 42500: 0.007436\n",
            "Custo depois da iteração 42600: 0.007418\n",
            "Custo depois da iteração 42700: 0.007400\n",
            "Custo depois da iteração 42800: 0.007383\n",
            "Custo depois da iteração 42900: 0.007365\n",
            "Custo depois da iteração 43000: 0.007348\n",
            "Custo depois da iteração 43100: 0.007330\n",
            "Custo depois da iteração 43200: 0.007313\n",
            "Custo depois da iteração 43300: 0.007296\n",
            "Custo depois da iteração 43400: 0.007279\n",
            "Custo depois da iteração 43500: 0.007262\n",
            "Custo depois da iteração 43600: 0.007245\n",
            "Custo depois da iteração 43700: 0.007228\n",
            "Custo depois da iteração 43800: 0.007211\n",
            "Custo depois da iteração 43900: 0.007194\n",
            "Custo depois da iteração 44000: 0.007178\n",
            "Custo depois da iteração 44100: 0.007161\n",
            "Custo depois da iteração 44200: 0.007145\n",
            "Custo depois da iteração 44300: 0.007128\n",
            "Custo depois da iteração 44400: 0.007112\n",
            "Custo depois da iteração 44500: 0.007096\n",
            "Custo depois da iteração 44600: 0.007079\n",
            "Custo depois da iteração 44700: 0.007063\n",
            "Custo depois da iteração 44800: 0.007047\n",
            "Custo depois da iteração 44900: 0.007031\n",
            "Custo depois da iteração 45000: 0.007015\n",
            "Custo depois da iteração 45100: 0.007000\n",
            "Custo depois da iteração 45200: 0.006984\n",
            "Custo depois da iteração 45300: 0.006968\n",
            "Custo depois da iteração 45400: 0.006952\n",
            "Custo depois da iteração 45500: 0.006937\n",
            "Custo depois da iteração 45600: 0.006921\n",
            "Custo depois da iteração 45700: 0.006906\n",
            "Custo depois da iteração 45800: 0.006891\n",
            "Custo depois da iteração 45900: 0.006875\n",
            "Custo depois da iteração 46000: 0.006860\n",
            "Custo depois da iteração 46100: 0.006845\n",
            "Custo depois da iteração 46200: 0.006830\n",
            "Custo depois da iteração 46300: 0.006815\n",
            "Custo depois da iteração 46400: 0.006800\n",
            "Custo depois da iteração 46500: 0.006785\n",
            "Custo depois da iteração 46600: 0.006770\n",
            "Custo depois da iteração 46700: 0.006756\n",
            "Custo depois da iteração 46800: 0.006741\n",
            "Custo depois da iteração 46900: 0.006726\n",
            "Custo depois da iteração 47000: 0.006712\n",
            "Custo depois da iteração 47100: 0.006697\n",
            "Custo depois da iteração 47200: 0.006683\n",
            "Custo depois da iteração 47300: 0.006668\n",
            "Custo depois da iteração 47400: 0.006654\n",
            "Custo depois da iteração 47500: 0.006640\n",
            "Custo depois da iteração 47600: 0.006626\n",
            "Custo depois da iteração 47700: 0.006611\n",
            "Custo depois da iteração 47800: 0.006597\n",
            "Custo depois da iteração 47900: 0.006583\n",
            "Custo depois da iteração 48000: 0.006569\n",
            "Custo depois da iteração 48100: 0.006556\n",
            "Custo depois da iteração 48200: 0.006542\n",
            "Custo depois da iteração 48300: 0.006528\n",
            "Custo depois da iteração 48400: 0.006514\n",
            "Custo depois da iteração 48500: 0.006501\n",
            "Custo depois da iteração 48600: 0.006487\n",
            "Custo depois da iteração 48700: 0.006473\n",
            "Custo depois da iteração 48800: 0.006460\n",
            "Custo depois da iteração 48900: 0.006446\n",
            "Custo depois da iteração 49000: 0.006433\n",
            "Custo depois da iteração 49100: 0.006420\n",
            "Custo depois da iteração 49200: 0.006406\n",
            "Custo depois da iteração 49300: 0.006393\n",
            "Custo depois da iteração 49400: 0.006380\n",
            "Custo depois da iteração 49500: 0.006367\n",
            "Custo depois da iteração 49600: 0.006354\n",
            "Custo depois da iteração 49700: 0.006341\n",
            "Custo depois da iteração 49800: 0.006328\n",
            "Custo depois da iteração 49900: 0.006315\n",
            "train accuracy: 100.0 %\n",
            "test accuracy: 72.0 %\n"
          ],
          "name": "stdout"
        }
      ]
    },
    {
      "cell_type": "code",
      "metadata": {
        "id": "ypjjXLbFPWqe"
      },
      "source": [
        ""
      ],
      "execution_count": null,
      "outputs": []
    }
  ]
}