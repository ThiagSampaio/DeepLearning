{
  "nbformat": 4,
  "nbformat_minor": 0,
  "metadata": {
    "colab": {
      "name": "Regressão Logística com Rede Neural.ipynb",
      "provenance": [],
      "collapsed_sections": [],
      "mount_file_id": "1nveDQyK5q5x5dTkU1qXitWSmqw2JkMh4",
      "authorship_tag": "ABX9TyMdHxAqXEm4GNiNuzMsY85t",
      "include_colab_link": true
    },
    "kernelspec": {
      "name": "python3",
      "display_name": "Python 3"
    },
    "language_info": {
      "name": "python"
    }
  },
  "cells": [
    {
      "cell_type": "markdown",
      "metadata": {
        "id": "view-in-github",
        "colab_type": "text"
      },
      "source": [
        "<a href=\"https://colab.research.google.com/github/ThiagSampaio/DeepLearning/blob/main/Regress%C3%A3o_Log%C3%ADstica_com_Rede_Neural.ipynb\" target=\"_parent\"><img src=\"https://colab.research.google.com/assets/colab-badge.svg\" alt=\"Open In Colab\"/></a>"
      ]
    },
    {
      "cell_type": "markdown",
      "metadata": {
        "id": "lQKRo2Q64aOJ"
      },
      "source": [
        "# Regressão Logística com Rede Neural\n",
        "\n",
        "Vamos construir um classificador de regressão logística para reconhecer gatos.\n",
        "\n",
        "** O que será mostrado: **\n",
        "- Construir uma arquitetura geral de um algoritmo de aprendizado, incluindo:\n",
        "    - Inicializando os parâmetros\n",
        "    - Calculando a função custo e seu gradiente\n",
        "    - Usando um algoritmo de otimização(gradiente descente)\n",
        "- Pegar as três funções acima e aplicá-las em uma função modelo principal, na ordem correta."
      ]
    },
    {
      "cell_type": "markdown",
      "metadata": {
        "id": "FKoeZy4M57yT"
      },
      "source": [
        "## Tabela de Conteúdos\n",
        "- [1 - Pacotes](#1)\n",
        "- [2 - Olhando o problema](#2)\n",
        "    - [Demonstração 1](#ex-1)\n",
        "    - [Demonstração 2](#ex-2)\n",
        "- [3 - Arquitetura geral de um algoritmo de aprendizado](#3)\n",
        "- [4 - Construindo as partes do nosso algoritmo](#4)\n",
        "    - [4.1 - Funções úteis](#4-1)\n",
        "        - [Demonstração 3 - sigmoid](#ex-3)\n",
        "    - [4.2 - Inicializando parâmetros](#4-2)\n",
        "        - [Demonstração 4 - inicializando_com_zeros](#ex-4)\n",
        "    - [4.3 - Propagação direta e inversa](#4-3)\n",
        "        - [Demonstração 5 - propagação](#ex-5)\n",
        "    - [4.4 - Optimization](#4-4)\n",
        "        - [Demonstração 6 - otimização](#ex-6)\n",
        "        - [Demonstração 7 - predição](#ex-7)\n",
        "- [5 - Aglutinar todas as funções em um modelo](#5)\n",
        "    - [Demonstração 8 - modelo](#ex-8)\n",
        "- [6 - Análises](#6)\n",
        "- [7 - Testando com sua prória imagem](#7)\n",
        "\n"
      ]
    },
    {
      "cell_type": "code",
      "metadata": {
        "id": "ikM5MzJp4Fa7"
      },
      "source": [
        ""
      ],
      "execution_count": null,
      "outputs": []
    },
    {
      "cell_type": "code",
      "metadata": {
        "id": "EU_MD31z4ZxX"
      },
      "source": [
        ""
      ],
      "execution_count": null,
      "outputs": []
    }
  ]
}