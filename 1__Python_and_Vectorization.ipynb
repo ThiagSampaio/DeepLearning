{
  "nbformat": 4,
  "nbformat_minor": 0,
  "metadata": {
    "colab": {
      "name": "1_ Python and Vectorization.ipynb",
      "provenance": [],
      "collapsed_sections": [],
      "mount_file_id": "1ZkUNWdlhSCy2-mTJnwCpz2GM6SBbp2TA",
      "authorship_tag": "ABX9TyP/WMMUYjvdfbRdXBuOgof2",
      "include_colab_link": true
    },
    "kernelspec": {
      "name": "python3",
      "display_name": "Python 3"
    },
    "language_info": {
      "name": "python"
    }
  },
  "cells": [
    {
      "cell_type": "markdown",
      "metadata": {
        "id": "view-in-github",
        "colab_type": "text"
      },
      "source": [
        "<a href=\"https://colab.research.google.com/github/ThiagSampaio/DeepLearning/blob/main/1__Python_and_Vectorization.ipynb\" target=\"_parent\"><img src=\"https://colab.research.google.com/assets/colab-badge.svg\" alt=\"Open In Colab\"/></a>"
      ]
    },
    {
      "cell_type": "code",
      "metadata": {
        "id": "MBJCXXvnzPoN"
      },
      "source": [
        ""
      ],
      "execution_count": null,
      "outputs": []
    },
    {
      "cell_type": "markdown",
      "metadata": {
        "id": "vGEdlq9Z_N8l"
      },
      "source": [
        "teste\n"
      ]
    },
    {
      "cell_type": "code",
      "metadata": {
        "id": "KdNFCd9S_QWd"
      },
      "source": [
        ""
      ],
      "execution_count": null,
      "outputs": []
    }
  ]
}